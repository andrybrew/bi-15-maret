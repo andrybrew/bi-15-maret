{
  "nbformat": 4,
  "nbformat_minor": 0,
  "metadata": {
    "colab": {
      "provenance": [],
      "authorship_tag": "ABX9TyPGusxCX2eOgLBprw1Q08v7",
      "include_colab_link": true
    },
    "kernelspec": {
      "name": "python3",
      "display_name": "Python 3"
    },
    "language_info": {
      "name": "python"
    }
  },
  "cells": [
    {
      "cell_type": "markdown",
      "metadata": {
        "id": "view-in-github",
        "colab_type": "text"
      },
      "source": [
        "<a href=\"https://colab.research.google.com/github/andrybrew/bi-15-maret/blob/main/NetworkToText.ipynb\" target=\"_parent\"><img src=\"https://colab.research.google.com/assets/colab-badge.svg\" alt=\"Open In Colab\"/></a>"
      ]
    },
    {
      "cell_type": "code",
      "execution_count": 1,
      "metadata": {
        "colab": {
          "base_uri": "https://localhost:8080/"
        },
        "id": "dc_5a1oV_dI8",
        "outputId": "53b28a0b-24b2-4896-f494-2b3b8bb42e1a"
      },
      "outputs": [
        {
          "output_type": "stream",
          "name": "stdout",
          "text": [
            "Edge list has been written to 'user_actor_mentions_edgelist.csv'.\n"
          ]
        }
      ],
      "source": [
        "import requests\n",
        "import networkx as nx\n",
        "import re\n",
        "import csv\n",
        "\n",
        "# Fetch the data\n",
        "url = \"https://api.apify.com/v2/datasets/bXeJYhFPqFE6UhT28/items?clean=true&format=json&limit=1000\"\n",
        "response = requests.get(url)\n",
        "data = response.json()\n",
        "\n",
        "# Initialize the graph\n",
        "G = nx.DiGraph()\n",
        "\n",
        "# Regular expression to find actors in the text\n",
        "actor_pattern = r'@(\\w+)'\n",
        "\n",
        "# Iterate through each item in the dataset\n",
        "for item in data:\n",
        "    user_info = item.get('user', {})\n",
        "    user = user_info.get('userFullName', '').strip()  # Extract userFullName from the nested user dictionary\n",
        "\n",
        "    # Check if userFullName is empty\n",
        "    if not user:\n",
        "        print(f\"Empty userFullName found in item: {item}\")\n",
        "        continue  # Skip this entry if userFullName is empty\n",
        "\n",
        "    text = item.get('text', '').strip()  # Extract text\n",
        "\n",
        "    # Find all actors mentioned in the text\n",
        "    actors = re.findall(actor_pattern, text)\n",
        "\n",
        "    # Add edges to the graph\n",
        "    for actor in actors:\n",
        "        G.add_edge(user, actor)\n",
        "\n",
        "# Write the edge list to a CSV file\n",
        "with open(\"user_actor_mentions_edgelist.csv\", mode='w', newline='') as file:\n",
        "    writer = csv.writer(file)\n",
        "    writer.writerow([\"source\", \"target\"])  # Header row\n",
        "    writer.writerows(G.edges())\n",
        "\n",
        "print(\"Edge list has been written to 'user_actor_mentions_edgelist.csv'.\")\n"
      ]
    }
  ]
}