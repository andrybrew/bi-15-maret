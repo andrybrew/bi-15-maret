{
  "nbformat": 4,
  "nbformat_minor": 0,
  "metadata": {
    "colab": {
      "provenance": [],
      "authorship_tag": "ABX9TyPLUWToS8zqxyXkJ46QhM2N",
      "include_colab_link": true
    },
    "kernelspec": {
      "name": "python3",
      "display_name": "Python 3"
    },
    "language_info": {
      "name": "python"
    }
  },
  "cells": [
    {
      "cell_type": "markdown",
      "metadata": {
        "id": "view-in-github",
        "colab_type": "text"
      },
      "source": [
        "<a href=\"https://colab.research.google.com/github/andrybrew/bi-15-maret/blob/main/InstagramToNetwork.ipynb\" target=\"_parent\"><img src=\"https://colab.research.google.com/assets/colab-badge.svg\" alt=\"Open In Colab\"/></a>"
      ]
    },
    {
      "cell_type": "code",
      "execution_count": 1,
      "metadata": {
        "colab": {
          "base_uri": "https://localhost:8080/"
        },
        "id": "oQAvdmolIlzb",
        "outputId": "66628d9f-41d5-441f-b4ce-12892af99648"
      },
      "outputs": [
        {
          "output_type": "stream",
          "name": "stdout",
          "text": [
            "Edge list has been written to 'user_mentions_edgelist.csv'.\n"
          ]
        }
      ],
      "source": [
        "import requests\n",
        "import networkx as nx\n",
        "import re\n",
        "import csv\n",
        "\n",
        "# Fetch the data\n",
        "url = \"https://api.apify.com/v2/datasets/EDjBD9vb1nJhewQfz/items?clean=true&format=json&limit=1000\"\n",
        "response = requests.get(url)\n",
        "data = response.json()\n",
        "\n",
        "# Initialize the graph\n",
        "G = nx.DiGraph()\n",
        "\n",
        "# Regular expression to find usernames in text\n",
        "username_pattern = r'@(\\w+)'\n",
        "\n",
        "# Iterate through each item in the dataset\n",
        "for item in data:\n",
        "    owner = item['ownerUsername']\n",
        "    text = item.get('text', '')\n",
        "\n",
        "    # Find all usernames mentioned in the text\n",
        "    mentions = re.findall(username_pattern, text)\n",
        "\n",
        "    # Add edges to the graph\n",
        "    for mention in mentions:\n",
        "        G.add_edge(owner, mention)\n",
        "\n",
        "# Write the edge list to a CSV file\n",
        "with open(\"user_mentions_edgelist.csv\", mode='w', newline='') as file:\n",
        "    writer = csv.writer(file)\n",
        "    writer.writerow([\"source\", \"target\"])  # Header row\n",
        "    writer.writerows(G.edges())\n",
        "\n",
        "print(\"Edge list has been written to 'user_mentions_edgelist.csv'.\")\n"
      ]
    }
  ]
}